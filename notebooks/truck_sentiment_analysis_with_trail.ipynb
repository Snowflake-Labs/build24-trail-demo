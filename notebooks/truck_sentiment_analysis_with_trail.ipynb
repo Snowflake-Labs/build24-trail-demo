{
 "metadata": {
  "language_info": {
   "name": "python"
  }
 },
 "nbformat_minor": 2,
 "nbformat": 4,
 "cells": [
  {
   "cell_type": "markdown",
   "metadata": {
    "name": "cell1",
    "resultHeight": 115
   },
   "source": [
    "# Truck Analysis\n",
    "Lets do some sentiment analysis on our food trucks"
   ],
   "id": "ce110000-1111-2222-3333-ffffff000000"
  },
  {
   "cell_type": "code",
   "id": "171f227f-a22f-4a86-9b6f-a3db86658db3",
   "metadata": {
    "language": "sql",
    "name": "sql_context",
    "collapsed": false,
    "resultHeight": 111
   },
   "outputs": [],
   "source": "USE DATABASE tb_voc;\n-- schema to hold all tables, functions, stored procedures\nCREATE SCHEMA IF NOT EXISTS data;\n-- stage for udf function files, other data files\nCREATE SCHEMA IF NOT EXISTS stages;",
   "execution_count": null
  },
  {
   "cell_type": "code",
   "id": "1190b9de-b97c-4c61-8e32-7a8c0abf0447",
   "metadata": {
    "language": "sql",
    "name": "sql_truck_reviews",
    "collapsed": false,
    "resultHeight": 251
   },
   "outputs": [],
   "source": "select * \nfrom tb_voc.analytics.truck_reviews_v\nlimit 5;",
   "execution_count": null
  },
  {
   "cell_type": "code",
   "id": "30d66652-1671-415b-bd42-176c98f99f32",
   "metadata": {
    "language": "sql",
    "name": "sp_review_sentiments",
    "collapsed": false,
    "resultHeight": 111
   },
   "outputs": [],
   "source": "-- Stored Procedure to build the sentiment out of reviews\nCREATE OR REPLACE PROCEDURE data.get_review_sentiment()\nRETURNS TABLE (\n    truck_id int, review varchar, sentiment_score float\n)\nLANGUAGE SQL AS\n$$\nDECLARE\n  res RESULTSET;\nBEGIN\n  res := ( \n    SELECT\n        truck_id,\n        review,\n        ROUND(SNOWFLAKE.CORTEX.SENTIMENT(review),2) AS sentiment\n    FROM tb_voc.analytics.truck_reviews_v\n    WHERE date_part('year', date) = 2024\n);\n  RETURN TABLE(res);\nEND;\n$$;",
   "execution_count": null
  },
  {
   "cell_type": "code",
   "id": "ec1e66cb-72b4-4767-971f-8c0e28cb3ea7",
   "metadata": {
    "language": "python",
    "name": "variables",
    "collapsed": false,
    "resultHeight": 0
   },
   "outputs": [],
   "source": "__database = \"tb_voc\"\n__schema = \"analytics\"\n__data_schema = \"data\"\n__stages_schema = \"stages\"\n__warehouse = \"tasty_ds_wh\"\n__udf_stage = \"udfs\"",
   "execution_count": null
  },
  {
   "cell_type": "code",
   "id": "dd9473bf-7c54-43ba-a430-df519386f4ea",
   "metadata": {
    "language": "python",
    "name": "sql_udf_stage",
    "collapsed": false,
    "resultHeight": 0
   },
   "outputs": [],
   "source": "from snowflake.snowpark.context import get_active_session\nfrom snowflake.core import CreateMode, Root\nfrom snowflake.core.stage import Stage\n\nsession = get_active_session()\nroot = Root(session)\nfunction_stage = Stage(name=__udf_stage)\nfunction_stage: Stage = (\n    root.databases[__database]\n    .schemas[__stages_schema]\n    .stages.create(\n        function_stage,\n        mode=CreateMode.if_not_exists,\n    )\n)",
   "execution_count": null
  },
  {
   "cell_type": "markdown",
   "id": "93b4673c-b04b-4adf-94fd-bbb5f3c05e42",
   "metadata": {
    "name": "cell2",
    "collapsed": false
   },
   "source": ""
  },
  {
   "cell_type": "code",
   "id": "68218028-9fa1-4ff5-8883-c73ffb53bdcf",
   "metadata": {
    "language": "python",
    "name": "udf_sentiment_class",
    "collapsed": false,
    "resultHeight": 0
   },
   "outputs": [],
   "source": "from snowflake.snowpark.functions import udf\n@udf(\n    name=f\"{__database}.{__data_schema}.classify_sentiment\",\n    is_permanent=True,\n    packages=[\"snowflake-telemetry-python\"],\n    stage_location=f\"{__database}.{__stages_schema}.{__udf_stage}\",\n    replace=True,\n)\ndef classify_sentiment(sentiment_score: float) -> str:\n    \"\"\"Classify sentiment as positive,neutral or negative based on the score.\"\"\"\n    import logging\n\n    import snowflake.telemetry as telemetry\n\n    logging.debug(\"Classifying sentiment score\")\n\n    telemetry.set_span_attribute(\"executing\", \"classify_sentiment\")\n    logging.debug(f\"Classifying sentiment score {sentiment_score:.2f}\")\n\n    if sentiment_score < -0.5:\n        logging.debug(\"Sentiment is negative\")\n        return \"negative\"\n    elif sentiment_score >= 0.5 and sentiment_score <= 1.0:\n        logging.debug(\"Sentiment is positive\")\n        return \"positive\"\n    else:\n        logging.debug(\"Sentiment is neutral\")\n        return \"netural\"",
   "execution_count": null
  },
  {
   "cell_type": "code",
   "id": "4f6d8473-e158-40b6-9b1b-9bdebe2f112d",
   "metadata": {
    "language": "sql",
    "name": "sql_call_proc_and_udf",
    "collapsed": false,
    "resultHeight": 438
   },
   "outputs": [],
   "source": "set num_of_rows=20;\n\nSELECT\n    truck_id,\n    review,\n    sentiment_score,\n    {{__database}}.{{__data_schema}}.classify_sentiment(sentiment_score) as sentiment_class\nFROM table({{__database}}.{{__data_schema}}.get_review_sentiment())\nLIMIT $num_of_rows",
   "execution_count": null
  },
  {
   "cell_type": "markdown",
   "id": "8f513c50-8e1c-467d-b155-0273d5ed1956",
   "metadata": {
    "name": "cell3",
    "collapsed": false,
    "resultHeight": 60
   },
   "source": "## Serverless Tasks"
  },
  {
   "cell_type": "code",
   "id": "314a5999-c26a-4974-9ede-53e08710ac94",
   "metadata": {
    "language": "sql",
    "name": "sql_task_truck_sentiments"
   },
   "outputs": [],
   "source": "",
   "execution_count": null
  },
  {
   "cell_type": "markdown",
   "id": "1989ae1b-25dd-4389-b435-3f05da32c3c2",
   "metadata": {
    "name": "cell4",
    "collapsed": false,
    "resultHeight": 60
   },
   "source": "## Serverless Alerts"
  },
  {
   "cell_type": "markdown",
   "id": "3010ee4b-fb63-405d-b12d-5db5388121ba",
   "metadata": {
    "name": "cell5",
    "collapsed": false,
    "resultHeight": 60
   },
   "source": "## Notifications"
  }
 ]
}