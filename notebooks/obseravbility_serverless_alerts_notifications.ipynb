{
 "metadata": {
  "kernelspec": {
   "display_name": "Streamlit Notebook",
   "name": "streamlit"
  }
 },
 "nbformat_minor": 5,
 "nbformat": 4,
 "cells": [
  {
   "cell_type": "markdown",
   "id": "56a67be3-46e1-4b56-90e2-9bb9b3961ae2",
   "metadata": {
    "name": "cell4",
    "collapsed": false,
    "resultHeight": 74
   },
   "source": "# Snowflake Trail"
  },
  {
   "cell_type": "code",
   "id": "ddb0ad4f-ad5d-493e-b176-f769312516da",
   "metadata": {
    "language": "sql",
    "name": "cell1",
    "collapsed": false,
    "resultHeight": 111
   },
   "outputs": [],
   "source": "USE DATABASE BUILD_DEMOS;",
   "execution_count": null
  },
  {
   "cell_type": "markdown",
   "id": "6f3aeda0-a15a-4e2c-a51e-a2cf620f63c5",
   "metadata": {
    "name": "cell3",
    "collapsed": false,
    "resultHeight": 60
   },
   "source": "## Traces and Logs"
  },
  {
   "cell_type": "code",
   "id": "a7d7c9ec-e9b3-4e49-8047-ba8864cc5bec",
   "metadata": {
    "language": "sql",
    "name": "sql_table_and_data",
    "collapsed": true,
    "resultHeight": 438,
    "codeCollapsed": false
   },
   "outputs": [],
   "source": "-- table for the raw records\nCREATE OR REPLACE TABLE Raw_Records(\nrecord_id INT PRIMARY KEY,\n    record_text VARCHAR(50000)\n\n);\n-- insert some records into the table\nINSERT INTO Raw_Records\n(\nSELECT \nuniform(176, 200, random()) as record_id,\n'This is a Record' as record_text\nFROM table(generator(rowCount => 25))\n);\n\nselect * from Raw_Records;\n",
   "execution_count": null
  },
  {
   "cell_type": "code",
   "id": "94f48fbd-553a-44a3-ba7b-dc5b2ad09963",
   "metadata": {
    "language": "sql",
    "name": "sql_udf",
    "collapsed": false,
    "resultHeight": 111
   },
   "outputs": [],
   "source": "-- UDF\nCREATE OR REPLACE FUNCTION BUILD_DEMOS.PUBLIC.UDF_PARSE_REVIEWS(\"INPUT\" NUMBER(38,0))\nRETURNS VARIANT\nLANGUAGE PYTHON\nRUNTIME_VERSION = '3.8'\nPACKAGES = ('snowflake-snowpark-python','snowflake-telemetry-python')\nHANDLER = 'compute'\nAS '\nimport logging\nfrom snowflake import telemetry\nimport time\n\ndef compute(input):\n\n    try: \n      telemetry.set_span_attribute(\"executing\", \"udf_parse_reviews\");\n    \n      telemetry.add_event(f\"parsing record_id: (\\\\\"{input}\\\\\")\")\n\n\n      time.sleep(int(input)/1000)\n    \n    \n      num = 1000/int(input)\n      telemetry.add_event(f\"parsed record_id: (\\\\\"{input}\\\\\")\")\n      \n    except:\n      logging.error(f\"Error occurred for record_id:(\\\\\"{input}\\\\\")\" )\n      telemetry.add_event(f\"NOT parsed record_id: (\\\\\"{input}\\\\\")\")\n      \n    return \"Done\"\n';\n",
   "execution_count": null
  },
  {
   "cell_type": "code",
   "id": "bccd25c2-3797-4b3b-af21-55b6daae2ef3",
   "metadata": {
    "language": "sql",
    "name": "sql_main_sp",
    "collapsed": false,
    "resultHeight": 111
   },
   "outputs": [],
   "source": "--Main Stored Procedure\nCREATE OR REPLACE PROCEDURE BUILD_DEMOS.PUBLIC.SP_INGEST_RAW_USER_REVIEWS()\nRETURNS VARCHAR(16777216)\nLANGUAGE PYTHON\nRUNTIME_VERSION = '3.8'\nPACKAGES = ('snowflake-snowpark-python','snowflake-telemetry-python','opentelemetry-api','joblib','numpy')\nHANDLER = 'compute'\nEXECUTE AS OWNER\nAS '\nfrom opentelemetry import trace\nfrom snowflake import telemetry\nfrom snowflake.snowpark.functions import call_udf, col\nimport logging\nimport time\nimport pandas as pd\n\ntelemetry.add_event(''initializing stored procedure'')\n\ndef compute(session):\n  telemetry.add_event(''stored procedure starting'')\n  logging.warn(f\"Inside Analyze_JSON()\")\n\n  telemetry.set_span_attribute(\"executing\", \"SP_Ingest_Raw_User_Reviews\");\n  \n  session.table(''build_demos.public.raw_records'')\\\\\n        .select(\n            call_udf(''udf_parse_reviews'', col(''record_id'')))\\\\\n        .collect()\n\n  python_df = session.create_dataframe([\"a\", \"b\", \"c\"])\n\n  pandas_df = python_df.to_pandas()\n\n  telemetry.add_event(''stored procedure completed'')\n  \n  return \"OK\"\n  \n';\n",
   "execution_count": null
  },
  {
   "cell_type": "code",
   "id": "77c0d0d1-b5e8-4171-a776-2fdd4317f4c7",
   "metadata": {
    "language": "sql",
    "name": "sql_main_df_large_df",
    "collapsed": false,
    "resultHeight": 111
   },
   "outputs": [],
   "source": "CREATE OR REPLACE PROCEDURE BUILD_DEMOS.PUBLIC.SP_INGEST_RAW_USER_REVIEWS()\nRETURNS VARCHAR(16777216)\nLANGUAGE PYTHON\nRUNTIME_VERSION = '3.8'\nPACKAGES = ('snowflake-snowpark-python','snowflake-telemetry-python','opentelemetry-api','joblib')\nHANDLER = 'compute'\nEXECUTE AS OWNER\nAS '\nfrom opentelemetry import trace\nfrom snowflake import telemetry\nfrom snowflake.snowpark.functions import call_udf, col\nimport logging\nimport time\nimport pandas as pd\nimport numpy as np\n\ntelemetry.add_event(''initializing stored procedure'')\n\ndef compute(session):\n  telemetry.add_event(''stored procedure starting'')\n  logging.warn(f\"Inside Analyze_JSON()\")\n\n  telemetry.set_span_attribute(\"executing\", \"SP_Ingest_Raw_User_Reviews\");\n  \n  session.table(''build_demos.public.raw_records'')\\\\\n        .select(\n            call_udf(''udf_parse_reviews'', col(''record_id'')))\\\\\n        .collect()\n\n  #Create a DataFrame with 100000 rows and 10 columns\n  data = np.random.rand(100_000, 10)\n  columns = [f\"mycolumn_{i}\" for i in range(10)]\n  pandas_df = pd.DataFrame(data, columns=columns)\n\n  python_df = session.create_dataframe(pandas_df)\n \n  pandas_df = python_df.to_pandas()\n\n  # doing some custom work\n  tracer = trace.get_tracer(__name__)\n  with tracer.start_as_current_span(f\"CUSTOM_SPAN\"):\n    resp = session.call(''build_demos.public.SP_Processing_Work'')\n\n  telemetry.add_event(''stored procedure completed'')\n  \n  return \"OK\"\n  \n';",
   "execution_count": null
  },
  {
   "cell_type": "code",
   "id": "015eea97-f531-4c85-9f0f-67f4f366a207",
   "metadata": {
    "language": "sql",
    "name": "sql_sp_child",
    "collapsed": false,
    "resultHeight": 111
   },
   "outputs": [],
   "source": "-- second (child) Stored Procedure\nCREATE OR REPLACE PROCEDURE build_demos.PUBLIC.SP_PROCESSING_WORK()\nRETURNS VARCHAR(16777216)\nLANGUAGE PYTHON\nRUNTIME_VERSION = '3.8'\nPACKAGES = ('snowflake-snowpark-python','snowflake-telemetry-python','opentelemetry-api','joblib','numpy')\nHANDLER = 'compute'\nEXECUTE AS OWNER\nAS '\nfrom opentelemetry import trace\nfrom snowflake import telemetry\nimport logging\nimport time\nimport numpy as np\nimport pandas as pd\nfrom snowflake.snowpark.functions import call_udf, col\n\n\ndef compute(session):\n\n  input_data = [[1, 2, 3, 4, 5]] * 200_000\n  df = pd.DataFrame(input_data)\n\n  tracer = trace.get_tracer(__name__)\n  with tracer.start_as_current_span(f\"custom_span_create_pd_df\"):\n  # Create a large DataFrame with random data\n    large_df = pd.DataFrame(np.random.rand(1_000_000, 600))\n    telemetry.set_span_attribute(\"executing\", \"SP_Processing_Work custom span - custom_span_create_pd_df\");\n    telemetry.add_event(\"custom span custom_span_create_pd_df completed\")\n    \n  with tracer.start_as_current_span(f\"custom_span_concat_pd_df\"):\n  # Concatenate the input DataFrame with the large DataFrame\n    concat_df = pd.concat([df, large_df], ignore_index=True)\n    telemetry.set_span_attribute(\"executing\", \"SP_Processing_Work custom span - custom_span_concat_pd_df\");\n    telemetry.add_event(\"custom span custom_span_concat_pd_df completed\")\n\n    \n  return \"OK\"\n';\n",
   "execution_count": null
  },
  {
   "cell_type": "code",
   "id": "2db3761c-690e-450f-87de-09933e563d92",
   "metadata": {
    "language": "sql",
    "name": "sql_set_log_level",
    "collapsed": false,
    "resultHeight": 0
   },
   "outputs": [],
   "source": "ALTER DATABASE {{database_name}} SET LOG_LEVEL = DEBUG;\nALTER SCHEMA {{schema_name}} SET LOG_LEVEL = DEBUG;\n\nALTER DATABASE {{database_name}} SET METRIC_LEVEL = ALL;\nALTER SCHEMA {{schema_name}} SET METRIC_LEVEL = ALL;\n\nALTER SESSION SET METRIC_LEVEL = ALL;",
   "execution_count": null
  },
  {
   "cell_type": "code",
   "id": "1c9bec54-e05b-4813-9c66-25c9fdd9be4e",
   "metadata": {
    "language": "sql",
    "name": "sql_call_sp",
    "collapsed": false,
    "resultHeight": 111
   },
   "outputs": [],
   "source": "Call SP_INGEST_RAW_USER_REVIEWS();",
   "execution_count": null
  },
  {
   "cell_type": "markdown",
   "id": "2b6b26f3-074d-40d1-9279-b377f3b27aa7",
   "metadata": {
    "name": "cell2",
    "collapsed": false,
    "resultHeight": 74
   },
   "source": "# Serverless Alerts and Notifications"
  },
  {
   "cell_type": "code",
   "id": "157ce903-1c6a-4d17-adc2-836fdb3a5cde",
   "metadata": {
    "language": "sql",
    "name": "cell5"
   },
   "outputs": [],
   "source": "",
   "execution_count": null
  }
 ]
}